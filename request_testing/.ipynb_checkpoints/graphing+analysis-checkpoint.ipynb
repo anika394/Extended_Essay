{
 "cells": [
  {
   "cell_type": "code",
   "execution_count": null,
   "metadata": {},
   "outputs": [],
   "source": [
    "import requests\n",
    "import random\n",
    "import string\n",
    "import time\n",
    "import csv\n",
    "import numpy as np\n",
    "import pandas as pd\n",
    "import os\n",
    "import matplotlib.pyplot as plt\n",
    "%matplotlib inline"
   ]
  },
  {
   "cell_type": "code",
   "execution_count": null,
   "metadata": {},
   "outputs": [],
   "source": [
    "chars = string.digits + string.ascii_letters + string.punctuation\n",
    "\n",
    "def create_random(size):\n",
    "    n = ''.join((random.choice(chars) for _ in range(size)))\n",
    "    return n\n",
    "\n",
    "def average(results_list):\n",
    "    return sum(results_list) / len(results_list)\n",
    "\n",
    "def percentile(results_list, percentile_no):\n",
    "    arr = np.array(results_list)\n",
    "    percentile = np.percentile(arr, percentile_no)\n",
    "    return percentile"
   ]
  },
  {
   "cell_type": "code",
   "execution_count": null,
   "metadata": {},
   "outputs": [],
   "source": [
    "mon_aes_test_results = []\n",
    "mon_des_test_results = []\n",
    "mon_rsa_test_results = []\n",
    "\n",
    "mic_aes_test_results = []\n",
    "mic_des_test_results = []\n",
    "mic_rsa_test_results = []"
   ]
  },
  {
   "cell_type": "code",
   "execution_count": null,
   "metadata": {},
   "outputs": [],
   "source": [
    "#MONOLITHIC QUERIES ===========================================================================================================================================\n",
    "def mon_aes_test():\n",
    "    start_time = time.time()\n",
    "\n",
    "    mon_query_aes = {'enctype': 'AES', 'msg': create_random(2048), 'aes_key': create_random(128)}\n",
    "    response = requests.get('https://jdhl7mi3nc.execute-api.ap-southeast-1.amazonaws.com/Prod/all-enc', params = mon_query_aes)\n",
    "    #print(response.json())\n",
    "    response_time = time.time() - start_time\n",
    "    print(\"--- %s seconds ---\" % response_time)\n",
    "\n",
    "    mon_aes_test_results.append(response_time)\n",
    "\n",
    "def mon_des_test():\n",
    "    start_time = time.time()\n",
    "\n",
    "    mon_query_des = {'enctype': 'DES', 'msg': create_random(2048), 'des_key': create_random(128)}\n",
    "    response = requests.get('https://jdhl7mi3nc.execute-api.ap-southeast-1.amazonaws.com/Prod/all-enc', params = mon_query_des)\n",
    "    #print(response.json())\n",
    "    response_time = time.time() - start_time\n",
    "    print(\"--- %s seconds ---\" % response_time)\n",
    "\n",
    "    mon_des_test_results.append(response_time)\n",
    "\n",
    "def mon_rsa_test():\n",
    "    start_time = time.time()\n",
    "\n",
    "    mon_query_rsa = {'enctype': 'RSA', 'msg': create_random(2048)}\n",
    "    response = requests.get('https://jdhl7mi3nc.execute-api.ap-southeast-1.amazonaws.com/Prod/all-enc', params = mon_query_rsa)\n",
    "    #print(response.json())\n",
    "    response_time = time.time() - start_time\n",
    "    print(\"--- %s seconds ---\" % response_time)\n",
    "\n",
    "    mon_rsa_test_results.append(response_time)"
   ]
  },
  {
   "cell_type": "code",
   "execution_count": null,
   "metadata": {},
   "outputs": [],
   "source": [
    "#MICROSERVICES QUERIES =======================================================================================================================================\n",
    "def mic_aes_test():\n",
    "    start_time = time.time()\n",
    "\n",
    "    mic_query_aes = {'msg': create_random(2048), 'aes_key': create_random(128)}\n",
    "    response = requests.get('https://hjhtd9o1d5.execute-api.ap-southeast-1.amazonaws.com/Prod/aes', params = mic_query_aes)\n",
    "    #print(response.json())\n",
    "    response_time = time.time() - start_time\n",
    "    print(\"--- %s seconds ---\" % response_time)\n",
    "\n",
    "    mic_aes_test_results.append(response_time)\n",
    "\n",
    "def mic_des_test():\n",
    "    start_time = time.time()\n",
    "\n",
    "    mic_query_des = {'msg': create_random(2048), 'des_key': create_random(128)}\n",
    "    response = requests.get('https://hjhtd9o1d5.execute-api.ap-southeast-1.amazonaws.com/Prod/des', params = mic_query_des)\n",
    "    #print(response.json())\n",
    "    response_time = time.time() - start_time\n",
    "    print(\"--- %s seconds ---\" % response_time)\n",
    "\n",
    "    mic_des_test_results.append(response_time)\n",
    "\n",
    "def mic_rsa_test():\n",
    "    start_time = time.time()\n",
    "\n",
    "    mic_query_rsa = {'msg': create_random(2048)}\n",
    "    response = requests.get('https://hjhtd9o1d5.execute-api.ap-southeast-1.amazonaws.com/Prod/rsa', params = mic_query_rsa)\n",
    "    #print(response.json())\n",
    "    response_time = time.time() - start_time\n",
    "    print(\"--- %s seconds ---\" % response_time)\n",
    "\n",
    "    mic_rsa_test_results.append(response_time)"
   ]
  },
  {
   "cell_type": "code",
   "execution_count": null,
   "metadata": {},
   "outputs": [],
   "source": [
    "trials = 10\n",
    "\n",
    "for i in range(trials):\n",
    "    print(\"--- %s TRIALS ---\" % i)\n",
    "    mon_aes_test()\n",
    "    mon_des_test()\n",
    "    mon_rsa_test()\n",
    "\n",
    "    mic_aes_test()\n",
    "    mic_des_test()\n",
    "    mic_rsa_test()"
   ]
  },
  {
   "cell_type": "code",
   "execution_count": null,
   "metadata": {},
   "outputs": [],
   "source": [
    "data = {'mon_aes_test': mon_aes_test_results, \n",
    "    'mon_des_test': mon_des_test_results,\n",
    "    'mon_rsa_test': mon_rsa_test_results,\n",
    "\n",
    "    'mic_aes_test': mic_aes_test_results,\n",
    "    'mic_des_test': mic_des_test_results,\n",
    "    'mic_rsa_test': mic_rsa_test_results}\n",
    "\n",
    "df = pd.DataFrame(data)\n",
    "print(df)"
   ]
  },
  {
   "cell_type": "code",
   "execution_count": null,
   "metadata": {},
   "outputs": [],
   "source": []
  }
 ],
 "metadata": {
  "kernelspec": {
   "display_name": "Python 3",
   "language": "python",
   "name": "python3"
  },
  "language_info": {
   "codemirror_mode": {
    "name": "ipython",
    "version": 3
   },
   "file_extension": ".py",
   "mimetype": "text/x-python",
   "name": "python",
   "nbconvert_exporter": "python",
   "pygments_lexer": "ipython3",
   "version": "3.8.5"
  }
 },
 "nbformat": 4,
 "nbformat_minor": 4
}
